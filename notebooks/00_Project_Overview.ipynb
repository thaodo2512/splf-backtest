{
 "cells": [
  {
   "cell_type": "markdown",
   "id": "5802045f",
   "metadata": {},
   "source": [
    "# SPLF Offline Backtest — Project Overview\n",
    "\n",
    "This notebook guides you through running the SPLF backtest pipeline (download → 1m bars → features → backtest → analysis) using the helper class `SPLFNotebook`."
   ]
  },
  {
   "cell_type": "markdown",
   "id": "ed93ee3f",
   "metadata": {},
   "source": [
    "## 0) Setup\n",
    "- Ensure you installed deps: `pip install -r requirements.txt` (run in your terminal or uncomment the cell below).\n",
    "- Configure your symbols/date range in `config/config.yaml` (this notebook will create it from the example if missing)."
   ]
  },
  {
   "cell_type": "code",
   "execution_count": null,
   "id": "6abf2c5b",
   "metadata": {},
   "outputs": [],
   "source": [
    "# Optional: install dependencies in this environment\n",
    "# !pip install -r requirements.txt\n",
    "import sys, platform\n",
    "print('Python:', sys.version.split()[0], '| Platform:', platform.platform())"
   ]
  },
  {
   "cell_type": "code",
   "execution_count": null,
   "id": "a86a86ac",
   "metadata": {},
   "outputs": [],
   "source": [
    "from pathlib import Path\n",
    "import shutil\n",
    "from splf.notebook import SPLFNotebook\n",
    "\n",
    "CONFIG_PATH = 'config/config.yaml'\n",
    "if not Path(CONFIG_PATH).exists():\n",
    "    Path('config').mkdir(parents=True, exist_ok=True)\n",
    "    shutil.copy('config/example.config.yaml', CONFIG_PATH)\n",
    "\n",
    "nb = SPLFNotebook(CONFIG_PATH)\n",
    "print('Using config:', CONFIG_PATH)\n",
    "print('Symbols:', nb.symbols)\n",
    "print('Period:', nb.cfg['period']['start'], '→', nb.cfg['period']['end'])"
   ]
  },
  {
   "cell_type": "markdown",
   "id": "c93dca53",
   "metadata": {},
   "source": [
    "## 1) (Optional) Download raw data\n",
    "This step pulls daily zip files from Binance Vision (can be large and slow). You can skip if you already have data in `data/raw/`."
   ]
  },
  {
   "cell_type": "code",
   "execution_count": null,
   "id": "88cedba2",
   "metadata": {},
   "outputs": [],
   "source": [
    "# WARNING: large downloads — uncomment to run\n",
    "# df_dl = nb.download()\n",
    "# df_dl.head()"
   ]
  },
  {
   "cell_type": "markdown",
   "id": "4d23c3a9",
   "metadata": {},
   "source": [
    "## 2) Build 1-minute bars\n",
    "Parses raw zips, normalizes timestamps, aligns into a 1-minute grid per symbol."
   ]
  },
  {
   "cell_type": "code",
   "execution_count": null,
   "id": "f6f1ac9c",
   "metadata": {},
   "outputs": [],
   "source": [
    "from IPython.display import display\n",
    "minute = nb.build_minute(return_df=True)\n",
    "sym = nb.symbols[0] if nb.symbols else None\n",
    "print('Built symbols:', list(minute.keys()))\n",
    "if sym and minute.get(sym) is not None and not minute[sym].empty:\n",
    "    display(minute[sym].head())\n",
    "else:\n",
    "    print('No 1m data to display — check raw data or config period.')"
   ]
  },
  {
   "cell_type": "markdown",
   "id": "9e2b1af1",
   "metadata": {},
   "source": [
    "## 3) Compute features (5m, refreshed per 1m)\n",
    "Computes basis/funding proxies, CVD, spread, RV, etc., then downsamples to 5-minute bars."
   ]
  },
  {
   "cell_type": "code",
   "execution_count": null,
   "id": "42fb3e67",
   "metadata": {},
   "outputs": [],
   "source": [
    "feats = nb.features(return_df=True)\n",
    "if sym and feats.get(sym) is not None and not feats[sym].empty:\n",
    "    display(feats[sym].head())\n",
    "else:\n",
    "    print('No features to display — check previous step.')"
   ]
  },
  {
   "cell_type": "markdown",
   "id": "e5c119c3",
   "metadata": {},
   "source": [
    "## 4) Run walk-forward backtest\n",
    "Fits Isolation Forest on a rolling 30d window, re-trains every 8h, thresholds via recent quantile, applies persistence (pre-alert + confirm)."
   ]
  },
  {
   "cell_type": "code",
   "execution_count": null,
   "id": "6784d322",
   "metadata": {},
   "outputs": [],
   "source": [
    "alerts_map = nb.backtest()\n",
    "alerts = alerts_map.get(sym)\n",
    "if alerts is not None and not alerts.empty:\n",
    "    display(alerts.head())\n",
    "else:\n",
    "    print('No alerts produced — try longer period or adjust config.')"
   ]
  },
  {
   "cell_type": "markdown",
   "id": "d9d90818",
   "metadata": {},
   "source": [
    "## 5) Analyze outcomes & metrics\n",
    "Attaches explosion labels by horizon and computes precision/recall/F1."
   ]
  },
  {
   "cell_type": "code",
   "execution_count": null,
   "id": "84453af7",
   "metadata": {},
   "outputs": [],
   "source": [
    "metrics, outcomes = nb.analyze()\n",
    "print(metrics)\n",
    "display(outcomes.head() if outcomes is not None and not outcomes.empty else 'No outcomes to show')"
   ]
  },
  {
   "cell_type": "markdown",
   "id": "bb699948",
   "metadata": {},
   "source": [
    "## Next steps\n",
    "- Tweak `config/config.yaml` (symbols, date range, thresholds).\n",
    "- Expand to Tier-B/C universes, enable spot aggTrades for BTC/ETH.\n",
    "- Add visualizations (PR curves, lead-time histograms)."
   ]
  }
 ],
 "metadata": {
  "kernelspec": {
   "display_name": "Python 3 (ipykernel)",
   "language": "python",
   "name": "python3"
  },
  "language_info": {
   "codemirror_mode": {
    "name": "ipython",
    "version": 3
   },
   "file_extension": ".py",
   "mimetype": "text/x-python",
   "name": "python",
   "nbconvert_exporter": "python",
   "pygments_lexer": "ipython3",
   "version": "3.10.12"
  }
 },
 "nbformat": 4,
 "nbformat_minor": 5
}
